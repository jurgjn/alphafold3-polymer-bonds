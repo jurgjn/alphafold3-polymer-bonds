{
  "nbformat": 4,
  "nbformat_minor": 0,
  "metadata": {
    "colab": {
      "provenance": [],
      "machine_shape": "hm",
      "gpuType": "L4"
    },
    "kernelspec": {
      "name": "python3",
      "display_name": "Python 3"
    },
    "language_info": {
      "name": "python"
    },
    "accelerator": "GPU"
  },
  "cells": [
    {
      "cell_type": "code",
      "execution_count": 1,
      "metadata": {
        "colab": {
          "base_uri": "https://localhost:8080/"
        },
        "id": "NgvxGW-6WGob",
        "outputId": "aebbdbac-11e4-43bd-d4fe-5c33436eadfd"
      },
      "outputs": [
        {
          "output_type": "stream",
          "name": "stdout",
          "text": [
            "Installing AlphaFold v3.0.1\n",
            "Installing colabfold\n",
            "Downloading run script to /app/alphafold\n"
          ]
        }
      ],
      "source": [
        "# Run installation script\n",
        "!source <(curl -fsSL https://raw.githubusercontent.com/jurgjn/alphafold3-polymer-bonds/refs/heads/main/colab/setup)"
      ]
    },
    {
      "cell_type": "code",
      "source": [
        "# Copy weights from Google Drive to the default location at /root/models/af3.bin.zst\n",
        "from google.colab import drive\n",
        "drive.mount('/content/drive')\n",
        "!mkdir -p /root/models/\n",
        "!cp /content/drive/MyDrive/alphafold3/models/af3.bin.zst /root/models/af3.bin.zst\n",
        "!md5sum /root/models/af3.bin.zst\n",
        "drive.flush_and_unmount()"
      ],
      "metadata": {
        "colab": {
          "base_uri": "https://localhost:8080/"
        },
        "id": "JZKCDpQLWeXZ",
        "outputId": "484b515d-719c-40ff-82bb-99d133cef0af"
      },
      "execution_count": 2,
      "outputs": [
        {
          "output_type": "stream",
          "name": "stdout",
          "text": [
            "Mounted at /content/drive\n",
            "ea076e2d05168d66a3d9a3fa62e029d0  /root/models/af3.bin.zst\n"
          ]
        }
      ]
    },
    {
      "cell_type": "code",
      "source": [
        "%%shell\n",
        "source /alphafold3_venv/bin/activate\n",
        "PATH=\"/hmmer/bin:$PATH\"\n",
        "cd /app/alphafold\n",
        "XLA_PYTHON_CLIENT_PREALLOCATE=true\n",
        "XLA_CLIENT_MEM_FRACTION=0.95\n",
        "python3 run_alphafold_data_test.py"
      ],
      "metadata": {
        "colab": {
          "base_uri": "https://localhost:8080/"
        },
        "id": "R0DZzIaJWn92",
        "outputId": "78c522da-04a4-4939-d2e1-8ab88b1c1264"
      },
      "execution_count": 3,
      "outputs": [
        {
          "output_type": "stream",
          "name": "stdout",
          "text": [
            "Running tests under Python 3.12.11: /alphafold3_venv/bin/python3\n",
            "[ RUN      ] DataPipelineTest.test_config\n",
            "[       OK ] DataPipelineTest.test_config\n",
            "[ RUN      ] DataPipelineTest.test_featurisation\n",
            "Processing chain A\n",
            "I0919 07:34:59.667994 137921170965120 pipeline.py:82] Getting protein MSAs for sequence SEFEKLRQTGDELVQAFQRLREIFDKGDDDSLEQVLEEIEELIQKHRQLFDNRQEAADTEAAKQGDQWVQLFQRFREAIDKGDKDSLEQLLEELEQALQKIRELAEKKN\n",
            "I0919 07:34:59.668938 137919618778688 jackhmmer.py:78] Query sequence: SEFEKLRQTGDELVQAFQRLREIFDKGDDDSLEQVLEEIEELIQKHRQLFDNRQEAADTEAAKQGDQWVQLFQRFREAIDKGDKDSLEQLLEELEQALQKIRELAEKKN\n",
            "I0919 07:34:59.669322 137919610385984 jackhmmer.py:78] Query sequence: SEFEKLRQTGDELVQAFQRLREIFDKGDDDSLEQVLEEIEELIQKHRQLFDNRQEAADTEAAKQGDQWVQLFQRFREAIDKGDKDSLEQLLEELEQALQKIRELAEKKN\n",
            "I0919 07:34:59.669689 137919601993280 jackhmmer.py:78] Query sequence: SEFEKLRQTGDELVQAFQRLREIFDKGDDDSLEQVLEEIEELIQKHRQLFDNRQEAADTEAAKQGDQWVQLFQRFREAIDKGDKDSLEQLLEELEQALQKIRELAEKKN\n",
            "I0919 07:34:59.670175 137919385826880 jackhmmer.py:78] Query sequence: SEFEKLRQTGDELVQAFQRLREIFDKGDDDSLEQVLEEIEELIQKHRQLFDNRQEAADTEAAKQGDQWVQLFQRFREAIDKGDKDSLEQLLEELEQALQKIRELAEKKN\n",
            "I0919 07:34:59.670378 137919610385984 subprocess_utils.py:68] Launching subprocess \"/hmmer/bin/jackhmmer -o /dev/null -A /tmp/tmpexrr2pef/output.sto --noali --F1 0.0005 --F2 5e-05 --F3 5e-07 --cpu 8 -N 1 -E 0.0001 --incE 0.0001 /tmp/tmpexrr2pef/query.fasta /alphafold3_venv/lib/python3.12/site-packages/alphafold3/test_data/miniature_databases/mgy_clusters__subsampled_1000.fa\"\n",
            "I0919 07:34:59.670602 137919601993280 subprocess_utils.py:68] Launching subprocess \"/hmmer/bin/jackhmmer -o /dev/null -A /tmp/tmph7bsa_wy/output.sto --noali --F1 0.0005 --F2 5e-05 --F3 5e-07 --cpu 8 -N 1 -E 0.0001 --incE 0.0001 /tmp/tmph7bsa_wy/query.fasta /alphafold3_venv/lib/python3.12/site-packages/alphafold3/test_data/miniature_databases/bfd-first_non_consensus_sequences__subsampled_1000.fasta\"\n",
            "I0919 07:34:59.670782 137919618778688 subprocess_utils.py:68] Launching subprocess \"/hmmer/bin/jackhmmer -o /dev/null -A /tmp/tmpzgosoyw2/output.sto --noali --F1 0.0005 --F2 5e-05 --F3 5e-07 --cpu 8 -N 1 -E 0.0001 --incE 0.0001 /tmp/tmpzgosoyw2/query.fasta /alphafold3_venv/lib/python3.12/site-packages/alphafold3/test_data/miniature_databases/uniref90__subsampled_1000.fasta\"\n",
            "I0919 07:34:59.671378 137919385826880 subprocess_utils.py:68] Launching subprocess \"/hmmer/bin/jackhmmer -o /dev/null -A /tmp/tmpthpjzn1k/output.sto --noali --F1 0.0005 --F2 5e-05 --F3 5e-07 --cpu 8 -N 1 -E 0.0001 --incE 0.0001 /tmp/tmpthpjzn1k/query.fasta /alphafold3_venv/lib/python3.12/site-packages/alphafold3/test_data/miniature_databases/uniprot_all__subsampled_1000.fasta\"\n",
            "I0919 07:34:59.701768 137919610385984 subprocess_utils.py:97] Finished Jackhmmer in 0.031 seconds\n",
            "I0919 07:34:59.704312 137919385826880 subprocess_utils.py:97] Finished Jackhmmer in 0.033 seconds\n",
            "I0919 07:34:59.705000 137919601993280 subprocess_utils.py:97] Finished Jackhmmer in 0.034 seconds\n",
            "I0919 07:34:59.705777 137919618778688 subprocess_utils.py:97] Finished Jackhmmer in 0.035 seconds\n",
            "I0919 07:34:59.706370 137921170965120 pipeline.py:115] Getting protein MSAs took 0.04 seconds for sequence SEFEKLRQTGDELVQAFQRLREIFDKGDDDSLEQVLEEIEELIQKHRQLFDNRQEAADTEAAKQGDQWVQLFQRFREAIDKGDKDSLEQLLEELEQALQKIRELAEKKN\n",
            "I0919 07:34:59.706458 137921170965120 pipeline.py:121] Deduplicating MSAs for sequence SEFEKLRQTGDELVQAFQRLREIFDKGDDDSLEQVLEEIEELIQKHRQLFDNRQEAADTEAAKQGDQWVQLFQRFREAIDKGDKDSLEQLLEELEQALQKIRELAEKKN\n",
            "I0919 07:34:59.707153 137921170965120 pipeline.py:134] Deduplicating MSAs took 0.00 seconds for sequence SEFEKLRQTGDELVQAFQRLREIFDKGDDDSLEQVLEEIEELIQKHRQLFDNRQEAADTEAAKQGDQWVQLFQRFREAIDKGDKDSLEQLLEELEQALQKIRELAEKKN, found 1 unpaired sequences, 1 paired sequences\n",
            "I0919 07:34:59.707256 137921170965120 pipeline.py:40] Getting protein templates for sequence SEFEKLRQTGDELVQAFQRLREIFDKGDDDSLEQVLEEIEELIQKHRQLFDNRQEAADTEAAKQGDQWVQLFQRFREAIDKGDKDSLEQLLEELEQALQKIRELAEKKN\n",
            "I0919 07:34:59.707680 137921170965120 subprocess_utils.py:68] Launching subprocess \"/hmmer/bin/hmmbuild --informat stockholm --hand --amino /tmp/tmpf91aepug/output.hmm /tmp/tmpf91aepug/query.msa\"\n",
            "I0919 07:34:59.758355 137921170965120 subprocess_utils.py:97] Finished Hmmbuild in 0.051 seconds\n",
            "I0919 07:34:59.758972 137921170965120 subprocess_utils.py:68] Launching subprocess \"/hmmer/bin/hmmsearch --noali --cpu 8 --F1 0.1 --F2 0.1 --F3 0.1 -E 100 --incE 100 --domE 100 --incdomE 100 -A /tmp/tmp9qlranw0/output.sto /tmp/tmp9qlranw0/query.hmm /alphafold3_venv/lib/python3.12/site-packages/alphafold3/test_data/miniature_databases/pdb_seqres_2022_09_28__subsampled_1000.fasta\"\n",
            "I0919 07:34:59.831269 137921170965120 subprocess_utils.py:97] Finished Hmmsearch in 0.072 seconds\n",
            "I0919 07:34:59.860382 137921170965120 pipeline.py:52] Getting 4 protein templates took 0.15 seconds for sequence SEFEKLRQTGDELVQAFQRLREIFDKGDDDSLEQVLEEIEELIQKHRQLFDNRQEAADTEAAKQGDQWVQLFQRFREAIDKGDKDSLEQLLEELEQALQKIRELAEKKN\n",
            "Processing chain A took 0.23 seconds\n",
            "Processing chain B\n",
            "Processing chain B took 0.00 seconds\n",
            "I0919 07:35:06.012298 137921170965120 pipeline.py:164] processing 5tgy, random_seed=1234\n",
            "I0919 07:35:06.163277 137921170965120 pipeline.py:257] Calculating bucket size for input with 150 tokens.\n",
            "I0919 07:35:06.163487 137921170965120 pipeline.py:263] Got bucket size 150 for input with 150 tokens, resulting in 0 padded tokens.\n",
            "[07:35:07] UFFTYPER: Unrecognized charge state for atom: 48\n",
            "[07:35:07] UFFTYPER: Unrecognized atom type: Zn4+2 (48)\n",
            "[07:35:08] UFFTYPER: Unrecognized charge state for atom: 48\n",
            "[07:35:08] UFFTYPER: Unrecognized atom type: Zn4+2 (48)\n",
            "[       OK ] DataPipelineTest.test_featurisation\n",
            "[ RUN      ] DataPipelineTest.test_process_fold_input_runs_only_data_pipeline\n",
            "Processing fold input 5tgy\n",
            "Running data pipeline...\n",
            "Processing chain A\n",
            "Processing chain A took 0.04 seconds\n",
            "Processing chain B\n",
            "Processing chain B took 0.00 seconds\n",
            "Output directory: /tmp/absl_testing/DataPipelineTest/test_process_fold_input_runs_only_data_pipeline/tmpaq26qtfx\n",
            "Writing model input JSON to /tmp/absl_testing/DataPipelineTest/test_process_fold_input_runs_only_data_pipeline/tmpaq26qtfx\n",
            "Skipping inference...\n",
            "Done processing fold input 5tgy.\n",
            "[       OK ] DataPipelineTest.test_process_fold_input_runs_only_data_pipeline\n",
            "[ RUN      ] DataPipelineTest.test_replace_db_dir0 (num_db_dirs=1)\n",
            "[       OK ] DataPipelineTest.test_replace_db_dir0 (num_db_dirs=1)\n",
            "[ RUN      ] DataPipelineTest.test_replace_db_dir1 (num_db_dirs=2)\n",
            "[       OK ] DataPipelineTest.test_replace_db_dir1 (num_db_dirs=2)\n",
            "[ RUN      ] DataPipelineTest.test_write_input_json\n",
            "[       OK ] DataPipelineTest.test_write_input_json\n",
            "----------------------------------------------------------------------\n",
            "Ran 6 tests in 8.778s\n",
            "\n",
            "OK\n"
          ]
        },
        {
          "output_type": "execute_result",
          "data": {
            "text/plain": []
          },
          "metadata": {},
          "execution_count": 3
        }
      ]
    },
    {
      "cell_type": "code",
      "source": [
        "%%shell\n",
        "source /alphafold3_venv/bin/activate\n",
        "PATH=\"/hmmer/bin:$PATH\"\n",
        "cd /app/alphafold\n",
        "XLA_PYTHON_CLIENT_PREALLOCATE=true\n",
        "XLA_CLIENT_MEM_FRACTION=0.95\n",
        "python3 run_alphafold_test.py"
      ],
      "metadata": {
        "colab": {
          "base_uri": "https://localhost:8080/"
        },
        "id": "SiS10l1AWq8f",
        "outputId": "3a61a9b1-9d9d-4108-b038-8f4a6056b1ee"
      },
      "execution_count": 4,
      "outputs": [
        {
          "output_type": "stream",
          "name": "stdout",
          "text": [
            "Running tests under Python 3.12.11: /alphafold3_venv/bin/python3\n",
            "[ RUN      ] InferenceTest.test_inference_bucket_1024\n",
            "I0919 07:35:11.222347 134361649603200 xla_bridge.py:895] Unable to initialize backend 'rocm': module 'jaxlib.xla_extension' has no attribute 'GpuAllocatorConfig'\n",
            "I0919 07:35:11.223434 134361649603200 xla_bridge.py:895] Unable to initialize backend 'tpu': INTERNAL: Failed to open libtpu.so: libtpu.so: cannot open shared object file: No such file or directory\n",
            "Processing fold input 5tgy\n",
            "Checking we can load the model parameters...\n",
            "2025-09-19 07:35:11.286515: W external/xla/xla/service/gpu/nvptx_compiler.cc:930] The NVIDIA driver's CUDA version is 12.4 which is older than the PTX compiler version 12.6.77. Because the driver is older than the PTX compiler version, XLA is disabling parallel compilation, which may slow down compilation. You should update your NVIDIA driver or use the NVIDIA-provided CUDA forward compatibility packages.\n",
            "Running data pipeline...\n",
            "Processing chain A\n",
            "I0919 07:35:16.137351 134361649603200 pipeline.py:82] Getting protein MSAs for sequence SEFEKLRQTGDELVQAFQRLREIFDKGDDDSLEQVLEEIEELIQKHRQLFDNRQEAADTEAAKQGDQWVQLFQRFREAIDKGDKDSLEQLLEELEQALQKIRELAEKKN\n",
            "I0919 07:35:16.138536 134337496487488 jackhmmer.py:78] Query sequence: SEFEKLRQTGDELVQAFQRLREIFDKGDDDSLEQVLEEIEELIQKHRQLFDNRQEAADTEAAKQGDQWVQLFQRFREAIDKGDKDSLEQLLEELEQALQKIRELAEKKN\n",
            "I0919 07:35:16.138991 134337488094784 jackhmmer.py:78] Query sequence: SEFEKLRQTGDELVQAFQRLREIFDKGDDDSLEQVLEEIEELIQKHRQLFDNRQEAADTEAAKQGDQWVQLFQRFREAIDKGDKDSLEQLLEELEQALQKIRELAEKKN\n",
            "I0919 07:35:16.142179 134337496487488 subprocess_utils.py:68] Launching subprocess \"/hmmer/bin/jackhmmer -o /dev/null -A /tmp/tmpr9uba7hs/output.sto --noali --F1 0.0005 --F2 5e-05 --F3 5e-07 --cpu 8 -N 1 -E 0.0001 --incE 0.0001 /tmp/tmpr9uba7hs/query.fasta /alphafold3_venv/lib/python3.12/site-packages/alphafold3/test_data/miniature_databases/uniref90__subsampled_1000.fasta\"\n",
            "I0919 07:35:16.142419 134337471309376 jackhmmer.py:78] Query sequence: SEFEKLRQTGDELVQAFQRLREIFDKGDDDSLEQVLEEIEELIQKHRQLFDNRQEAADTEAAKQGDQWVQLFQRFREAIDKGDKDSLEQLLEELEQALQKIRELAEKKN\n",
            "I0919 07:35:16.142621 134337479702080 jackhmmer.py:78] Query sequence: SEFEKLRQTGDELVQAFQRLREIFDKGDDDSLEQVLEEIEELIQKHRQLFDNRQEAADTEAAKQGDQWVQLFQRFREAIDKGDKDSLEQLLEELEQALQKIRELAEKKN\n",
            "I0919 07:35:16.143236 134337471309376 subprocess_utils.py:68] Launching subprocess \"/hmmer/bin/jackhmmer -o /dev/null -A /tmp/tmpyk2ptu35/output.sto --noali --F1 0.0005 --F2 5e-05 --F3 5e-07 --cpu 8 -N 1 -E 0.0001 --incE 0.0001 /tmp/tmpyk2ptu35/query.fasta /alphafold3_venv/lib/python3.12/site-packages/alphafold3/test_data/miniature_databases/uniprot_all__subsampled_1000.fasta\"\n",
            "I0919 07:35:16.143519 134337488094784 subprocess_utils.py:68] Launching subprocess \"/hmmer/bin/jackhmmer -o /dev/null -A /tmp/tmp6wohp8hc/output.sto --noali --F1 0.0005 --F2 5e-05 --F3 5e-07 --cpu 8 -N 1 -E 0.0001 --incE 0.0001 /tmp/tmp6wohp8hc/query.fasta /alphafold3_venv/lib/python3.12/site-packages/alphafold3/test_data/miniature_databases/mgy_clusters__subsampled_1000.fa\"\n",
            "I0919 07:35:16.143642 134337479702080 subprocess_utils.py:68] Launching subprocess \"/hmmer/bin/jackhmmer -o /dev/null -A /tmp/tmpjewqz88d/output.sto --noali --F1 0.0005 --F2 5e-05 --F3 5e-07 --cpu 8 -N 1 -E 0.0001 --incE 0.0001 /tmp/tmpjewqz88d/query.fasta /alphafold3_venv/lib/python3.12/site-packages/alphafold3/test_data/miniature_databases/bfd-first_non_consensus_sequences__subsampled_1000.fasta\"\n",
            "I0919 07:35:16.177060 134337488094784 subprocess_utils.py:97] Finished Jackhmmer in 0.033 seconds\n",
            "I0919 07:35:16.177730 134337496487488 subprocess_utils.py:97] Finished Jackhmmer in 0.035 seconds\n",
            "I0919 07:35:16.178606 134337471309376 subprocess_utils.py:97] Finished Jackhmmer in 0.035 seconds\n",
            "I0919 07:35:16.179855 134337479702080 subprocess_utils.py:97] Finished Jackhmmer in 0.036 seconds\n",
            "I0919 07:35:16.180523 134361649603200 pipeline.py:115] Getting protein MSAs took 0.04 seconds for sequence SEFEKLRQTGDELVQAFQRLREIFDKGDDDSLEQVLEEIEELIQKHRQLFDNRQEAADTEAAKQGDQWVQLFQRFREAIDKGDKDSLEQLLEELEQALQKIRELAEKKN\n",
            "I0919 07:35:16.180608 134361649603200 pipeline.py:121] Deduplicating MSAs for sequence SEFEKLRQTGDELVQAFQRLREIFDKGDDDSLEQVLEEIEELIQKHRQLFDNRQEAADTEAAKQGDQWVQLFQRFREAIDKGDKDSLEQLLEELEQALQKIRELAEKKN\n",
            "I0919 07:35:16.181365 134361649603200 pipeline.py:134] Deduplicating MSAs took 0.00 seconds for sequence SEFEKLRQTGDELVQAFQRLREIFDKGDDDSLEQVLEEIEELIQKHRQLFDNRQEAADTEAAKQGDQWVQLFQRFREAIDKGDKDSLEQLLEELEQALQKIRELAEKKN, found 1 unpaired sequences, 1 paired sequences\n",
            "I0919 07:35:16.181488 134361649603200 pipeline.py:40] Getting protein templates for sequence SEFEKLRQTGDELVQAFQRLREIFDKGDDDSLEQVLEEIEELIQKHRQLFDNRQEAADTEAAKQGDQWVQLFQRFREAIDKGDKDSLEQLLEELEQALQKIRELAEKKN\n",
            "I0919 07:35:16.181945 134361649603200 subprocess_utils.py:68] Launching subprocess \"/hmmer/bin/hmmbuild --informat stockholm --hand --amino /tmp/tmpayohswwt/output.hmm /tmp/tmpayohswwt/query.msa\"\n",
            "I0919 07:35:16.232639 134361649603200 subprocess_utils.py:97] Finished Hmmbuild in 0.051 seconds\n",
            "I0919 07:35:16.233319 134361649603200 subprocess_utils.py:68] Launching subprocess \"/hmmer/bin/hmmsearch --noali --cpu 8 --F1 0.1 --F2 0.1 --F3 0.1 -E 100 --incE 100 --domE 100 --incdomE 100 -A /tmp/tmptbliiqwo/output.sto /tmp/tmptbliiqwo/query.hmm /alphafold3_venv/lib/python3.12/site-packages/alphafold3/test_data/miniature_databases/pdb_seqres_2022_09_28__subsampled_1000.fasta\"\n",
            "I0919 07:35:16.307477 134361649603200 subprocess_utils.py:97] Finished Hmmsearch in 0.074 seconds\n",
            "I0919 07:35:16.335906 134361649603200 pipeline.py:52] Getting 4 protein templates took 0.15 seconds for sequence SEFEKLRQTGDELVQAFQRLREIFDKGDDDSLEQVLEEIEELIQKHRQLFDNRQEAADTEAAKQGDQWVQLFQRFREAIDKGDKDSLEQLLEELEQALQKIRELAEKKN\n",
            "Processing chain A took 0.23 seconds\n",
            "Processing chain B\n",
            "Processing chain B took 0.00 seconds\n",
            "Output directory: /tmp/absl_testing/InferenceTest/test_inference_bucket_1024/tmp14crdt3o\n",
            "Writing model input JSON to /tmp/absl_testing/InferenceTest/test_inference_bucket_1024/tmp14crdt3o\n",
            "Predicting 3D structure for 5tgy for seed(s) (1234,)...\n",
            "Featurising data for seeds (1234,)...\n",
            "Featurising 5tgy with rng_seed 1234.\n",
            "I0919 07:35:22.495297 134361649603200 pipeline.py:164] processing 5tgy, random_seed=1234\n",
            "I0919 07:35:22.510940 134361649603200 pipeline.py:257] Calculating bucket size for input with 150 tokens.\n",
            "I0919 07:35:22.511127 134361649603200 pipeline.py:263] Got bucket size 1024 for input with 150 tokens, resulting in 874 padded tokens.\n",
            "[07:35:23] UFFTYPER: Unrecognized charge state for atom: 48\n",
            "[07:35:23] UFFTYPER: Unrecognized atom type: Zn4+2 (48)\n",
            "[07:35:24] UFFTYPER: Unrecognized charge state for atom: 48\n",
            "[07:35:24] UFFTYPER: Unrecognized atom type: Zn4+2 (48)\n",
            "Featurising 5tgy with rng_seed 1234 took 2.55 seconds.\n",
            "Featurising data for seeds (1234,) took  8.67 seconds.\n",
            "Running model inference for seed 1234...\n",
            "Running model inference for seed 1234 took  502.40 seconds.\n",
            "Extracting output structures (one per sample) for seed 1234...\n",
            "Extracting output structures (one per sample) for seed 1234 took  0.28 seconds.\n",
            "Running model inference and extracting output structures for seed 1234 took 502.68 seconds.\n",
            "Running model inference and extracting output structures for seeds (1234,) took 502.68 seconds.\n",
            "Writing outputs for 5tgy for seed(s) (1234,)...\n",
            "Done processing fold input 5tgy.\n",
            "I0919 07:44:03.246418 134361649603200 run_alphafold_test.py:259] finished get_inference_result\n",
            "I0919 07:44:05.967537 134361649603200 run_alphafold_test.py:362] Comparing inference results with expected values.\n",
            "[       OK ] InferenceTest.test_inference_bucket_1024\n",
            "[ RUN      ] InferenceTest.test_inference_default_bucket\n",
            "Processing fold input 5tgy\n",
            "Checking we can load the model parameters...\n",
            "Running data pipeline...\n",
            "Processing chain A\n",
            "Processing chain A took 0.04 seconds\n",
            "Processing chain B\n",
            "Processing chain B took 0.00 seconds\n",
            "Output directory: /tmp/absl_testing/InferenceTest/test_inference_default_bucket/tmpc1k0p75t\n",
            "Writing model input JSON to /tmp/absl_testing/InferenceTest/test_inference_default_bucket/tmpc1k0p75t\n",
            "Predicting 3D structure for 5tgy for seed(s) (1234,)...\n",
            "Featurising data for seeds (1234,)...\n",
            "Featurising 5tgy with rng_seed 1234.\n",
            "I0919 07:44:09.062731 134361649603200 pipeline.py:164] processing 5tgy, random_seed=1234\n",
            "I0919 07:44:09.079790 134361649603200 pipeline.py:257] Calculating bucket size for input with 150 tokens.\n",
            "I0919 07:44:09.079913 134361649603200 pipeline.py:263] Got bucket size 150 for input with 150 tokens, resulting in 0 padded tokens.\n",
            "[07:44:10] UFFTYPER: Unrecognized charge state for atom: 48\n",
            "[07:44:10] UFFTYPER: Unrecognized atom type: Zn4+2 (48)\n",
            "[07:44:11] UFFTYPER: Unrecognized charge state for atom: 48\n",
            "[07:44:11] UFFTYPER: Unrecognized atom type: Zn4+2 (48)\n",
            "Featurising 5tgy with rng_seed 1234 took 2.51 seconds.\n",
            "Featurising data for seeds (1234,) took  2.51 seconds.\n",
            "Running model inference for seed 1234...\n",
            "Running model inference for seed 1234 took  115.02 seconds.\n",
            "Extracting output structures (one per sample) for seed 1234...\n",
            "Extracting output structures (one per sample) for seed 1234 took  0.25 seconds.\n",
            "Running model inference and extracting output structures for seed 1234 took 115.27 seconds.\n",
            "Running model inference and extracting output structures for seeds (1234,) took 115.27 seconds.\n",
            "Writing outputs for 5tgy for seed(s) (1234,)...\n",
            "Done processing fold input 5tgy.\n",
            "I0919 07:46:09.286006 134361649603200 run_alphafold_test.py:259] finished get_inference_result\n",
            "I0919 07:46:09.427117 134361649603200 run_alphafold_test.py:362] Comparing inference results with expected values.\n",
            "[       OK ] InferenceTest.test_inference_default_bucket\n",
            "[ RUN      ] InferenceTest.test_model_inference\n",
            "[       OK ] InferenceTest.test_model_inference\n",
            "[ RUN      ] InferenceTest.test_process_fold_input_runs_only_inference\n",
            "Processing fold input 5tgy\n",
            "Checking we can load the model parameters...\n",
            "Skipping data pipeline...\n",
            "Output directory: /tmp/absl_testing/InferenceTest/test_process_fold_input_runs_only_inference/tmp5jokn22b\n",
            "Writing model input JSON to /tmp/absl_testing/InferenceTest/test_process_fold_input_runs_only_inference/tmp5jokn22b\n",
            "Predicting 3D structure for 5tgy for seed(s) (1234,)...\n",
            "Featurising data for seeds (1234,)...\n",
            "[       OK ] InferenceTest.test_process_fold_input_runs_only_inference\n",
            "----------------------------------------------------------------------\n",
            "Ran 4 tests in 737.612s\n",
            "\n",
            "OK\n"
          ]
        },
        {
          "output_type": "execute_result",
          "data": {
            "text/plain": []
          },
          "metadata": {},
          "execution_count": 4
        }
      ]
    }
  ]
}