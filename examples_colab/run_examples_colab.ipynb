{
  "nbformat": 4,
  "nbformat_minor": 0,
  "metadata": {
    "colab": {
      "provenance": [],
      "gpuType": "A100"
    },
    "kernelspec": {
      "name": "python3",
      "display_name": "Python 3"
    },
    "language_info": {
      "name": "python"
    },
    "accelerator": "GPU"
  },
  "cells": [
    {
      "cell_type": "markdown",
      "source": [
        "# Setup\n",
        "- Install alphafold3, colabfold\n",
        "- Copy model weights from Google Drive (adjust path & give permission when asked)"
      ],
      "metadata": {
        "id": "25wp9fr0Dfff"
      }
    },
    {
      "cell_type": "code",
      "source": [
        "%pip install --quiet alphafold3-polymer-bonds\n",
        "!ALPHAFOLD3_VERSION=\"a8ecdb2\"; source <(curl -fsSL https://raw.githubusercontent.com/jurgjn/alphafold3-polymer-bonds/refs/heads/main/colab/install)"
      ],
      "metadata": {
        "id": "aBWLk3NgXnwa",
        "outputId": "21e2f28e-dd0d-4468-a6e7-547a47bc8768",
        "colab": {
          "base_uri": "https://localhost:8080/"
        }
      },
      "execution_count": 1,
      "outputs": [
        {
          "output_type": "stream",
          "name": "stdout",
          "text": [
            "\u001b[?25l   \u001b[90m━━━━━━━━━━━━━━━━━━━━━━━━━━━━━━━━━━━━━━━━\u001b[0m \u001b[32m0.0/3.3 MB\u001b[0m \u001b[31m?\u001b[0m eta \u001b[36m-:--:--\u001b[0m\r\u001b[2K   \u001b[90m━━━━━━━━━━━━━━━━━━━━━━━━━━━━━━━━━━━━━━━━\u001b[0m \u001b[32m3.3/3.3 MB\u001b[0m \u001b[31m116.1 MB/s\u001b[0m eta \u001b[36m0:00:00\u001b[0m\n",
            "\u001b[?25h\u001b[?25l   \u001b[90m━━━━━━━━━━━━━━━━━━━━━━━━━━━━━━━━━━━━━━━━\u001b[0m \u001b[32m0.0/86.8 kB\u001b[0m \u001b[31m?\u001b[0m eta \u001b[36m-:--:--\u001b[0m\r\u001b[2K   \u001b[90m━━━━━━━━━━━━━━━━━━━━━━━━━━━━━━━━━━━━━━━━\u001b[0m \u001b[32m86.8/86.8 kB\u001b[0m \u001b[31m5.4 MB/s\u001b[0m eta \u001b[36m0:00:00\u001b[0m\n",
            "\u001b[?25hInstalling alphafold3 a8ecdb2\n",
            "Installing colabfold\n",
            "Downloading run script to /app/alphafold\n"
          ]
        }
      ]
    },
    {
      "cell_type": "code",
      "source": [
        "# Copy weights from Google Drive to the default location at /root/models/af3.bin.zst\n",
        "from google.colab import drive\n",
        "drive.mount('/mnt/gdrive')\n",
        "!mkdir -p /root/models/\n",
        "!cp /mnt/gdrive/MyDrive/alphafold3/models/af3.bin.zst /root/models/af3.bin.zst\n",
        "!ls -l /root/models/af3.bin.zst\n",
        "drive.flush_and_unmount()"
      ],
      "metadata": {
        "id": "JZKCDpQLWeXZ",
        "outputId": "54a9b0ac-d6c2-46c0-a03e-56ffb3762259",
        "colab": {
          "base_uri": "https://localhost:8080/"
        }
      },
      "execution_count": 2,
      "outputs": [
        {
          "output_type": "stream",
          "name": "stdout",
          "text": [
            "Mounted at /mnt/gdrive\n",
            "-rw------- 1 root root 1020558622 Oct  3 12:14 /root/models/af3.bin.zst\n"
          ]
        }
      ]
    },
    {
      "cell_type": "code",
      "source": [
        "import argparse, collections, copy, gzip, json, os, os.path, re, string, sys\n",
        "from pprint import pprint\n",
        "import numpy as np\n",
        "import Bio.PDB, Bio.PDB.mmcifio, Bio.PDB.Polypeptide\n",
        "# Helper functions for manipulating AlphaFold 3 input jsons: https://github.com/google-deepmind/alphafold3/blob/main/docs/input.md\n",
        "from alphafold3_polymer_bonds.alphafold3_io import colab_data_pipeline, init_input_json, read_input_json, print_input_json, write_input_json"
      ],
      "metadata": {
        "id": "BOi2WFbYKkxK"
      },
      "execution_count": 3,
      "outputs": []
    },
    {
      "cell_type": "markdown",
      "source": [
        "# Set up baseline"
      ],
      "metadata": {
        "id": "f_7_MYQNuuPo"
      }
    },
    {
      "cell_type": "code",
      "source": [
        "!wget --content-disposition https://files.rcsb.org/download/1DF6-assembly1.cif.gz\n",
        "!wget --content-disposition https://files.rcsb.org/download/6OQ1-assembly1.cif.gz\n",
        "!gunzip *.gz"
      ],
      "metadata": {
        "id": "CIwDuaIUJGLT",
        "outputId": "87b27d41-e9ed-4415-d4b8-12f6a7fa0e85",
        "colab": {
          "base_uri": "https://localhost:8080/"
        }
      },
      "execution_count": 4,
      "outputs": [
        {
          "output_type": "stream",
          "name": "stdout",
          "text": [
            "--2025-10-03 12:14:07--  https://files.rcsb.org/download/1DF6-assembly1.cif.gz\n",
            "Resolving files.rcsb.org (files.rcsb.org)... 13.33.45.113, 13.33.45.71, 13.33.45.56, ...\n",
            "Connecting to files.rcsb.org (files.rcsb.org)|13.33.45.113|:443... connected.\n",
            "HTTP request sent, awaiting response... 200 OK\n",
            "Length: unspecified [application/gzip]\n",
            "Saving to: ‘1DF6-assembly1.cif.gz’\n",
            "\n",
            "\r1DF6-assembly1.cif.     [<=>                 ]       0  --.-KB/s               \r1DF6-assembly1.cif.     [ <=>                ]  11.05K  --.-KB/s    in 0s      \n",
            "\n",
            "2025-10-03 12:14:07 (389 MB/s) - ‘1DF6-assembly1.cif.gz’ saved [11317]\n",
            "\n",
            "--2025-10-03 12:14:07--  https://files.rcsb.org/download/6OQ1-assembly1.cif.gz\n",
            "Resolving files.rcsb.org (files.rcsb.org)... 13.33.45.113, 13.33.45.71, 13.33.45.56, ...\n",
            "Connecting to files.rcsb.org (files.rcsb.org)|13.33.45.113|:443... connected.\n",
            "HTTP request sent, awaiting response... 200 OK\n",
            "Length: unspecified [application/gzip]\n",
            "Saving to: ‘6OQ1-assembly1.cif.gz’\n",
            "\n",
            "6OQ1-assembly1.cif.     [ <=>                ]  47.20K  --.-KB/s    in 0.002s  \n",
            "\n",
            "2025-10-03 12:14:07 (28.5 MB/s) - ‘6OQ1-assembly1.cif.gz’ saved [48330]\n",
            "\n"
          ]
        }
      ]
    },
    {
      "cell_type": "code",
      "source": [
        "def input_json_from_rcsb(pdb_id='1DF6'):\n",
        "  parser = Bio.PDB.MMCIFParser()\n",
        "  struct = parser.get_structure(pdb_id, f'{pdb_id}-assembly1.cif')\n",
        "\n",
        "  def get_(chain):\n",
        "    return ''.join(Bio.PDB.Polypeptide.protein_letters_3to1.get(residue.resname, '') for residue in chain.get_residues())\n",
        "\n",
        "  js = init_input_json()\n",
        "  js['name'] = pdb_id\n",
        "  for chain in Bio.PDB.Selection.unfold_entities(entity_list=struct[0], target_level='C'):\n",
        "    js['sequences'].append(collections.OrderedDict([('protein', collections.OrderedDict([('id', chain.id),('sequence', get_(chain))]))]))\n",
        "\n",
        "  return js\n",
        "\n",
        "baseline_1DF6 = input_json_from_rcsb('1DF6')\n",
        "baseline_6OQ1 = input_json_from_rcsb('6OQ1')\n",
        "baseline_1DF6['name'] = '1DF6_baseline'\n",
        "baseline_6OQ1['name'] = '6OQ1_baseline'\n",
        "\n",
        "write_input_json(baseline_1DF6, 'data_pipeline_input/{}.json')\n",
        "write_input_json(baseline_6OQ1, 'data_pipeline_input/{}.json')"
      ],
      "metadata": {
        "id": "Az6t4vHuWHVv",
        "outputId": "78d9c93c-7c78-4604-87be-4f76da9c3b5c",
        "colab": {
          "base_uri": "https://localhost:8080/"
        }
      },
      "execution_count": 5,
      "outputs": [
        {
          "output_type": "stream",
          "name": "stderr",
          "text": [
            "/usr/local/lib/python3.12/dist-packages/Bio/PDB/StructureBuilder.py:100: PDBConstructionWarning: WARNING: Chain A is discontinuous at line 1774.\n",
            "  warnings.warn(\n",
            "/usr/local/lib/python3.12/dist-packages/Bio/PDB/StructureBuilder.py:100: PDBConstructionWarning: WARNING: Chain C is discontinuous at line 1784.\n",
            "  warnings.warn(\n",
            "/usr/local/lib/python3.12/dist-packages/Bio/PDB/StructureBuilder.py:100: PDBConstructionWarning: WARNING: Chain F is discontinuous at line 1791.\n",
            "  warnings.warn(\n"
          ]
        }
      ]
    },
    {
      "cell_type": "markdown",
      "source": [
        "# Set up bondedAtomPairs"
      ],
      "metadata": {
        "id": "4Zichl7du0Ui"
      }
    },
    {
      "cell_type": "code",
      "source": [
        "polybonds_1DF6 = copy.deepcopy(baseline_1DF6)\n",
        "polybonds_6OQ1 = copy.deepcopy(baseline_6OQ1)\n",
        "polybonds_1DF6['name'] = '1DF6_polybonds'\n",
        "polybonds_6OQ1['name'] = '6OQ1_polybonds'\n",
        "\n",
        "polybonds_1DF6['bondedAtomPairs'] = [\n",
        "  [['A', 1, 'N'], ['A', 30, 'C']],\n",
        "]\n",
        "polybonds_6OQ1['bondedAtomPairs'] = [\n",
        "  [['F', 11, 'NZ'], ['A', 76, 'C']],\n",
        "  [['F', 48, 'NZ'], ['C', 76, 'C']],\n",
        "]\n",
        "write_input_json(polybonds_1DF6, 'bonds_input/{}.json')\n",
        "write_input_json(polybonds_6OQ1, 'bonds_input/{}.json')"
      ],
      "metadata": {
        "id": "bKXuAQpvsUwK"
      },
      "execution_count": 6,
      "outputs": []
    },
    {
      "cell_type": "code",
      "source": [
        "!alphafold3_polymer_bonds --source_path bonds_input/1DF6_polybonds.json --output_path data_pipeline_input/1DF6_polybonds.json\n",
        "!alphafold3_polymer_bonds --source_path bonds_input/6OQ1_polybonds.json --output_path data_pipeline_input/6OQ1_polybonds.json"
      ],
      "metadata": {
        "id": "ggtQOYiftcXy",
        "outputId": "aa5ed899-e04d-4915-903c-47f7e8e7bb7f",
        "colab": {
          "base_uri": "https://localhost:8080/"
        }
      },
      "execution_count": 7,
      "outputs": [
        {
          "output_type": "stream",
          "name": "stdout",
          "text": [
            "alphafold3-polymer-bonds v0.3\n",
            "Source file: bonds_input/1DF6_polybonds.json\n",
            "Output file: data_pipeline_input/1DF6_polybonds.json\n",
            "Loaded: bonds_input/1DF6_polybonds.json\n",
            "A 1 A 30 protein protein\n",
            "Saved modified file: data_pipeline_input/1DF6_polybonds.json\n",
            "alphafold3-polymer-bonds v0.3\n",
            "Source file: bonds_input/6OQ1_polybonds.json\n",
            "Output file: data_pipeline_input/6OQ1_polybonds.json\n",
            "Loaded: bonds_input/6OQ1_polybonds.json\n",
            "F 11 A 76 protein protein\n",
            "F 48 C 76 protein protein\n",
            "Saved modified file: data_pipeline_input/6OQ1_polybonds.json\n"
          ]
        }
      ]
    },
    {
      "cell_type": "markdown",
      "source": [
        "# Run colabfold data pipeline"
      ],
      "metadata": {
        "id": "vsjedZcOu5tB"
      }
    },
    {
      "cell_type": "code",
      "source": [
        "for json_file in ['1DF6_baseline.json', '1DF6_polybonds.json', '6OQ1_baseline.json', '6OQ1_polybonds.json']:\n",
        "  print(json_file)\n",
        "  js = read_input_json(f'data_pipeline_input/{json_file}')\n",
        "  js = colab_data_pipeline(js)\n",
        "  write_input_json(js, 'predictions_input/{}.json')"
      ],
      "metadata": {
        "id": "MjAHBVEkjUc1",
        "outputId": "8ab1e61a-39f7-4691-c977-189fd08292e2",
        "colab": {
          "base_uri": "https://localhost:8080/"
        }
      },
      "execution_count": 8,
      "outputs": [
        {
          "output_type": "stream",
          "name": "stdout",
          "text": [
            "1DF6_baseline.json\n",
            "MPLBACKEND=AGG; source /colabfold_venv/bin/activate; colabfold_batch --msa-only --af3-json /tmp/_get_colabfold_msa/input/a850230a28468ac35a56354f44852f1cccf8b939.fasta /tmp/_get_colabfold_msa/output\n",
            "1DF6_polybonds.json\n",
            "MPLBACKEND=AGG; source /colabfold_venv/bin/activate; colabfold_batch --msa-only --af3-json /tmp/_get_colabfold_msa/input/3ed3f18e812cf5aaed3c2bdbb8099f7edf4ce0dc.fasta /tmp/_get_colabfold_msa/output\n",
            "6OQ1_baseline.json\n",
            "MPLBACKEND=AGG; source /colabfold_venv/bin/activate; colabfold_batch --msa-only --af3-json /tmp/_get_colabfold_msa/input/5e79e6c523d2a0d00e78c26fc593166b041dd4dc.fasta /tmp/_get_colabfold_msa/output\n",
            "MPLBACKEND=AGG; source /colabfold_venv/bin/activate; colabfold_batch --msa-only --af3-json /tmp/_get_colabfold_msa/input/59a77f5ea85130fdff1efe9577a0c28b2f3d245d.fasta /tmp/_get_colabfold_msa/output\n",
            "MPLBACKEND=AGG; source /colabfold_venv/bin/activate; colabfold_batch --msa-only --af3-json /tmp/_get_colabfold_msa/input/24cb1901bdfd1064e9d28d23804edc6881eee4af.fasta /tmp/_get_colabfold_msa/output\n",
            "6OQ1_polybonds.json\n",
            "MPLBACKEND=AGG; source /colabfold_venv/bin/activate; colabfold_batch --msa-only --af3-json /tmp/_get_colabfold_msa/input/e89ea6879725935d07110c73c4a4a99038cd5d44.fasta /tmp/_get_colabfold_msa/output\n",
            "MPLBACKEND=AGG; source /colabfold_venv/bin/activate; colabfold_batch --msa-only --af3-json /tmp/_get_colabfold_msa/input/7c86dfbaae61ee0877c66f7c54b918f372b37e94.fasta /tmp/_get_colabfold_msa/output\n"
          ]
        }
      ]
    },
    {
      "cell_type": "markdown",
      "source": [
        "# Run structure prediction"
      ],
      "metadata": {
        "id": "-PLvi9s_u-in"
      }
    },
    {
      "cell_type": "code",
      "source": [
        "%%shell\n",
        "source /alphafold3_venv/bin/activate\n",
        "/app/alphafold/run_alphafold3_autogpu.sh \\\n",
        "  --input_dir=/content/predictions_input/ \\\n",
        "  --output_dir=/content/predictions_output/ \\\n",
        "  --norun_data_pipeline"
      ],
      "metadata": {
        "id": "RbvLAnQZKemf",
        "outputId": "ef65e602-499a-4bd9-f238-c012a3d0aca2",
        "colab": {
          "base_uri": "https://localhost:8080/"
        }
      },
      "execution_count": 9,
      "outputs": [
        {
          "output_type": "stream",
          "name": "stdout",
          "text": [
            "Updated 0 paths from the index\n",
            "Using compilation time workaround with XLA flags\n",
            "Using low GPU memory setup (40 GB)\n",
            "Adjusting pair_transition_shard_spec in model_config.py\n",
            "Enabling unified memory\n",
            "Executing run_alphafold.py\n",
            "I1003 12:14:39.739111 140054985740928 xla_bridge.py:895] Unable to initialize backend 'rocm': module 'jaxlib.xla_extension' has no attribute 'GpuAllocatorConfig'\n",
            "I1003 12:14:39.740203 140054985740928 xla_bridge.py:895] Unable to initialize backend 'tpu': INTERNAL: Failed to open libtpu.so: libtpu.so: cannot open shared object file: No such file or directory\n",
            "\n",
            "Running AlphaFold 3. Please note that standard AlphaFold 3 model parameters are\n",
            "only available under terms of use provided at\n",
            "https://github.com/google-deepmind/alphafold3/blob/main/WEIGHTS_TERMS_OF_USE.md.\n",
            "If you do not agree to these terms and are using AlphaFold 3 derived model\n",
            "parameters, cancel execution of AlphaFold 3 inference with CTRL-C, and do not\n",
            "use the model parameters.\n",
            "\n",
            "Found local devices: [CudaDevice(id=0)], using device 0: cuda:0\n",
            "Building model from scratch...\n",
            "Checking that model parameters can be loaded...\n",
            "2025-10-03 12:14:39.801362: W external/xla/xla/service/gpu/nvptx_compiler.cc:930] The NVIDIA driver's CUDA version is 12.4 which is older than the PTX compiler version 12.6.77. Because the driver is older than the PTX compiler version, XLA is disabling parallel compilation, which may slow down compilation. You should update your NVIDIA driver or use the NVIDIA-provided CUDA forward compatibility packages.\n",
            "\n",
            "Running fold job 1DF6_baseline...\n",
            "Output will be written in /content/predictions_output/1DF6_baseline\n",
            "Skipping data pipeline...\n",
            "Writing model input JSON to /content/predictions_output/1DF6_baseline/1DF6_baseline_data.json\n",
            "Predicting 3D structure for 1DF6_baseline with 1 seed(s)...\n",
            "Featurising data with 1 seed(s)...\n",
            "Featurising data with seed 1.\n",
            "I1003 12:14:50.516812 140054985740928 pipeline.py:173] processing 1DF6_baseline, random_seed=1\n",
            "I1003 12:14:50.526714 140054985740928 pipeline.py:266] Calculating bucket size for input with 30 tokens.\n",
            "I1003 12:14:50.526891 140054985740928 pipeline.py:272] Got bucket size 256 for input with 30 tokens, resulting in 226 padded tokens.\n",
            "Featurising data with seed 1 took 0.65 seconds.\n",
            "Featurising data with 1 seed(s) took 6.70 seconds.\n",
            "Running model inference and extracting output structure samples with 1 seed(s)...\n",
            "Running model inference with seed 1...\n",
            "Running model inference with seed 1 took 51.88 seconds.\n",
            "Extracting inference results with seed 1...\n",
            "Extracting 5 inference samples with seed 1 took 0.08 seconds.\n",
            "Running model inference and extracting output structures with 1 seed(s) took 51.96 seconds.\n",
            "Writing outputs with 1 seed(s)...\n",
            "Fold job 1DF6_baseline done, output written to /content/predictions_output/1DF6_baseline\n",
            "\n",
            "\n",
            "Running fold job 1DF6_polybonds...\n",
            "Output will be written in /content/predictions_output/1DF6_polybonds\n",
            "Skipping data pipeline...\n",
            "Writing model input JSON to /content/predictions_output/1DF6_polybonds/1DF6_polybonds_data.json\n",
            "Predicting 3D structure for 1DF6_polybonds with 1 seed(s)...\n",
            "Featurising data with 1 seed(s)...\n",
            "Featurising data with seed 1.\n",
            "I1003 12:15:43.157860 140054985740928 pipeline.py:173] processing 1DF6_polybonds, random_seed=1\n",
            "I1003 12:15:43.183153 140054985740928 pipeline.py:266] Calculating bucket size for input with 39 tokens.\n",
            "I1003 12:15:43.183268 140054985740928 pipeline.py:272] Got bucket size 256 for input with 39 tokens, resulting in 217 padded tokens.\n",
            "Featurising data with seed 1 took 0.53 seconds.\n",
            "Featurising data with 1 seed(s) took 0.53 seconds.\n",
            "Running model inference and extracting output structure samples with 1 seed(s)...\n",
            "Running model inference with seed 1...\n",
            "Running model inference with seed 1 took 8.46 seconds.\n",
            "Extracting inference results with seed 1...\n",
            "Extracting 5 inference samples with seed 1 took 0.11 seconds.\n",
            "Running model inference and extracting output structures with 1 seed(s) took 8.58 seconds.\n",
            "Writing outputs with 1 seed(s)...\n",
            "Fold job 1DF6_polybonds done, output written to /content/predictions_output/1DF6_polybonds\n",
            "\n",
            "\n",
            "Running fold job 6OQ1_baseline...\n",
            "Output will be written in /content/predictions_output/6OQ1_baseline\n",
            "Skipping data pipeline...\n",
            "Writing model input JSON to /content/predictions_output/6OQ1_baseline/6OQ1_baseline_data.json\n",
            "Predicting 3D structure for 6OQ1_baseline with 1 seed(s)...\n",
            "Featurising data with 1 seed(s)...\n",
            "Featurising data with seed 1.\n",
            "I1003 12:15:52.442368 140054985740928 pipeline.py:173] processing 6OQ1_baseline, random_seed=1\n",
            "I1003 12:15:52.465785 140054985740928 pipeline.py:266] Calculating bucket size for input with 223 tokens.\n",
            "I1003 12:15:52.465932 140054985740928 pipeline.py:272] Got bucket size 256 for input with 223 tokens, resulting in 33 padded tokens.\n",
            "Featurising data with seed 1 took 6.13 seconds.\n",
            "Featurising data with 1 seed(s) took 6.13 seconds.\n",
            "Running model inference and extracting output structure samples with 1 seed(s)...\n",
            "Running model inference with seed 1...\n",
            "Running model inference with seed 1 took 8.51 seconds.\n",
            "Extracting inference results with seed 1...\n",
            "Extracting 5 inference samples with seed 1 took 0.62 seconds.\n",
            "Running model inference and extracting output structures with 1 seed(s) took 9.13 seconds.\n",
            "Writing outputs with 1 seed(s)...\n",
            "Fold job 6OQ1_baseline done, output written to /content/predictions_output/6OQ1_baseline\n",
            "\n",
            "\n",
            "Running fold job 6OQ1_polybonds...\n",
            "Output will be written in /content/predictions_output/6OQ1_polybonds\n",
            "Skipping data pipeline...\n",
            "Writing model input JSON to /content/predictions_output/6OQ1_polybonds/6OQ1_polybonds_data.json\n",
            "Predicting 3D structure for 6OQ1_polybonds with 1 seed(s)...\n",
            "Featurising data with 1 seed(s)...\n",
            "Featurising data with seed 1.\n",
            "I1003 12:16:08.109037 140054985740928 pipeline.py:173] processing 6OQ1_polybonds, random_seed=1\n",
            "I1003 12:16:08.157270 140054985740928 pipeline.py:266] Calculating bucket size for input with 231 tokens.\n",
            "I1003 12:16:08.157406 140054985740928 pipeline.py:272] Got bucket size 256 for input with 231 tokens, resulting in 25 padded tokens.\n",
            "Featurising data with seed 1 took 6.13 seconds.\n",
            "Featurising data with 1 seed(s) took 6.13 seconds.\n",
            "Running model inference and extracting output structure samples with 1 seed(s)...\n",
            "Running model inference with seed 1...\n",
            "Running model inference with seed 1 took 8.52 seconds.\n",
            "Extracting inference results with seed 1...\n",
            "Extracting 5 inference samples with seed 1 took 0.61 seconds.\n",
            "Running model inference and extracting output structures with 1 seed(s) took 9.13 seconds.\n",
            "Writing outputs with 1 seed(s)...\n",
            "Fold job 6OQ1_polybonds done, output written to /content/predictions_output/6OQ1_polybonds\n",
            "\n",
            "Done running 4 fold jobs.\n"
          ]
        },
        {
          "output_type": "execute_result",
          "data": {
            "text/plain": []
          },
          "metadata": {},
          "execution_count": 9
        }
      ]
    }
  ]
}