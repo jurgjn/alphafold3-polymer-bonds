{
  "cells": [
    {
      "cell_type": "code",
      "execution_count": 1,
      "metadata": {
        "id": "BOi2WFbYKkxK",
        "vscode": {
          "languageId": "shellscript"
        }
      },
      "outputs": [],
      "source": [
        "import argparse, collections, copy, gzip, json, os, os.path, re, string, sys\n",
        "from pprint import pprint\n",
        "import numpy as np\n",
        "from alphafold3_polymer_bonds.alphafold3_io import colab_data_pipeline, init_input_json, read_input_json, print_input_json, write_input_json, input_json_from_rcsb"
      ]
    },
    {
      "cell_type": "code",
      "execution_count": null,
      "metadata": {
        "colab": {
          "base_uri": "https://localhost:8080/"
        },
        "id": "CIwDuaIUJGLT",
        "outputId": "87b27d41-e9ed-4415-d4b8-12f6a7fa0e85",
        "vscode": {
          "languageId": "shellscript"
        }
      },
      "outputs": [],
      "source": [
        "!wget --directory-prefix=rcsb/ --content-disposition https://files.rcsb.org/download/1AAR-assembly1.cif.gz\n",
        "!wget --directory-prefix=rcsb/ --content-disposition https://files.rcsb.org/download/1DF6-assembly1.cif.gz\n",
        "!wget --directory-prefix=rcsb/ --content-disposition https://files.rcsb.org/download/6OQ1-assembly1.cif.gz\n",
        "!wget --directory-prefix=rcsb/ --content-disposition https://files.rcsb.org/download/8S6W-assembly1.cif.gz"
      ]
    },
    {
      "cell_type": "code",
      "execution_count": 2,
      "metadata": {
        "colab": {
          "base_uri": "https://localhost:8080/"
        },
        "id": "Az6t4vHuWHVv",
        "outputId": "78d9c93c-7c78-4604-87be-4f76da9c3b5c",
        "vscode": {
          "languageId": "shellscript"
        }
      },
      "outputs": [],
      "source": [
        "json_1AAR = input_json_from_rcsb('rcsb/1AAR-assembly1.cif.gz')\n",
        "json_1DF6 = input_json_from_rcsb('rcsb/1DF6-assembly1.cif.gz')\n",
        "json_6OQ1 = input_json_from_rcsb('rcsb/6OQ1-assembly1.cif.gz')\n",
        "json_8S6W = input_json_from_rcsb('rcsb/8S6W-assembly1.cif.gz')\n",
        "json_1AAR['name'] = '1AAR_bondsonly'\n",
        "json_1DF6['name'] = '1DF6_bondsonly'\n",
        "json_6OQ1['name'] = '6OQ1_bondsonly'\n",
        "json_8S6W['name'] = '8S6W_bondsonly'\n",
        "\n",
        "json_1AAR['bondedAtomPairs'] = [\n",
        "  [['B', 48, 'NZ'], ['A', 76, 'C']]\n",
        "]\n",
        "json_1DF6['bondedAtomPairs'] = [\n",
        "  [['A', 1, 'N'], ['A', 30, 'C']],\n",
        "]\n",
        "json_6OQ1['bondedAtomPairs'] = [\n",
        "  [['F', 11, 'NZ'], ['A', 76, 'C']],\n",
        "  [['F', 48, 'NZ'], ['C', 76, 'C']],\n",
        "]\n",
        "json_8S6W['bondedAtomPairs'] = [\n",
        "  [[\"C\", 36, \"O3'\"], [\"C\", 1,  \"P\"]],\n",
        "  [[\"D\", 1,  \"P\"], [\"D\", 36, \"O3'\"]]\n",
        "]\n",
        "\n",
        "write_input_json(json_1AAR, 'alphafold3_jsons/{}.json')\n",
        "write_input_json(json_1DF6, 'alphafold3_jsons/{}.json')\n",
        "write_input_json(json_6OQ1, 'alphafold3_jsons/{}.json')\n",
        "write_input_json(json_8S6W, 'alphafold3_jsons/{}.json')"
      ]
    },
    {
      "cell_type": "code",
      "execution_count": 3,
      "metadata": {
        "vscode": {
          "languageId": "shellscript"
        }
      },
      "outputs": [
        {
          "name": "stdout",
          "output_type": "stream",
          "text": [
            "alphafold3-polymer-bonds v0.4.dev0\n",
            "Source file: alphafold3_jsons/1AAR_bondsonly.json\n",
            "Output file: alphafold3_jsons/1AAR_encoded.json\n",
            "Loaded: alphafold3_jsons/1AAR_bondsonly.json\n",
            "B 48 A 76 protein protein\n",
            "Inferring name attribute 1AAR_encoded from path - alphafold3_jsons/1AAR_encoded.json\n",
            "Saved modified file: alphafold3_jsons/1AAR_encoded.json\n",
            "alphafold3-polymer-bonds v0.4.dev0\n",
            "Source file: alphafold3_jsons/1DF6_bondsonly.json\n",
            "Output file: alphafold3_jsons/1DF6_encoded.json\n",
            "Loaded: alphafold3_jsons/1DF6_bondsonly.json\n",
            "A 1 A 30 protein protein\n",
            "Inferring name attribute 1DF6_encoded from path - alphafold3_jsons/1DF6_encoded.json\n",
            "Saved modified file: alphafold3_jsons/1DF6_encoded.json\n",
            "alphafold3-polymer-bonds v0.4.dev0\n",
            "Source file: alphafold3_jsons/6OQ1_bondsonly.json\n",
            "Output file: alphafold3_jsons/6OQ1_encoded.json\n",
            "Loaded: alphafold3_jsons/6OQ1_bondsonly.json\n",
            "F 11 A 76 protein protein\n",
            "F 48 C 76 protein protein\n",
            "Inferring name attribute 6OQ1_encoded from path - alphafold3_jsons/6OQ1_encoded.json\n",
            "Saved modified file: alphafold3_jsons/6OQ1_encoded.json\n",
            "alphafold3-polymer-bonds v0.4.dev0\n",
            "Source file: alphafold3_jsons/8S6W_bondsonly.json\n",
            "Output file: alphafold3_jsons/8S6W_encoded.json\n",
            "Loaded: alphafold3_jsons/8S6W_bondsonly.json\n",
            "C 36 C 1 rna rna\n",
            "D 1 D 36 rna rna\n",
            "Inferring name attribute 8S6W_encoded from path - alphafold3_jsons/8S6W_encoded.json\n",
            "Saved modified file: alphafold3_jsons/8S6W_encoded.json\n"
          ]
        }
      ],
      "source": [
        "!alphafold3_polymer_bonds --bonds_path alphafold3_jsons/1AAR_bondsonly.json --encoded_path alphafold3_jsons/1AAR_encoded.json\n",
        "!alphafold3_polymer_bonds --bonds_path alphafold3_jsons/1DF6_bondsonly.json --encoded_path alphafold3_jsons/1DF6_encoded.json\n",
        "!alphafold3_polymer_bonds --bonds_path alphafold3_jsons/6OQ1_bondsonly.json --encoded_path alphafold3_jsons/6OQ1_encoded.json\n",
        "!alphafold3_polymer_bonds --bonds_path alphafold3_jsons/8S6W_bondsonly.json --encoded_path alphafold3_jsons/8S6W_encoded.json"
      ]
    }
  ],
  "metadata": {
    "accelerator": "GPU",
    "colab": {
      "gpuType": "A100",
      "provenance": []
    },
    "kernelspec": {
      "display_name": "ops-env",
      "language": "python",
      "name": "python3"
    },
    "language_info": {
      "codemirror_mode": {
        "name": "ipython",
        "version": 3
      },
      "file_extension": ".py",
      "mimetype": "text/x-python",
      "name": "python",
      "nbconvert_exporter": "python",
      "pygments_lexer": "ipython3",
      "version": "3.13.0"
    }
  },
  "nbformat": 4,
  "nbformat_minor": 0
}
