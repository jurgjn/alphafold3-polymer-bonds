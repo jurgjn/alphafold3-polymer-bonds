{
 "cells": [
  {
   "cell_type": "code",
   "execution_count": 1,
   "metadata": {
    "vscode": {
     "languageId": "shellscript"
    }
   },
   "outputs": [
    {
     "name": "stdout",
     "output_type": "stream",
     "text": [
      "(batch-infer-venv) \n",
      "(batch-infer-venv) \n",
      "/cluster/project/beltrao/jjaenes/25.08_alphafold3-polymer-bonds/examples\n",
      "(batch-infer-venv) \n"
     ]
    }
   ],
   "source": [
    "cd -P ~/batch-infer\n",
    "conda deactivate\n",
    "module load stack/.2024-06-silent python/3.11.6 eth_proxy\n",
    "source software/venvs/batch-infer-venv/bin/activate\n",
    "RESULTS_PREFIX=/cluster/project/beltrao/jjaenes/25.08_alphafold3-polymer-bonds/examples\n",
    "echo $RESULTS_PREFIX"
   ]
  },
  {
   "cell_type": "code",
   "execution_count": 2,
   "metadata": {
    "vscode": {
     "languageId": "shellscript"
    }
   },
   "outputs": [
    {
     "name": "stdout",
     "output_type": "stream",
     "text": [
      "   JOBID  PARTITION   NAME                                                                                                  STATE       TIME  TIME_LIMIT  NODELIST(REASON)\n",
      "45445527  normal.24h  batch-infer:alphafold3_onegpu=-cluster-project-beltrao-jjaenes-25.08_alphafold3-polymer-bonds-exampl  RUNNING    19:24  1-00:00:00  eu-g5-007-3\n",
      "45421524  normal.24h  euler-tunnel                                                                                          RUNNING  3:02:24     6:00:00  eu-g9-046-3\n",
      "45445679  normal.4h   alphafold3_msas:id=8S6W_encoded                                                                       RUNNING    18:57     4:00:00  eu-g9-056-3\n",
      "45445680  normal.4h   alphafold3_msas:id=8S6W_bondsonly                                                                     RUNNING    18:57     4:00:00  eu-g9-056-3\n"
     ]
    }
   ],
   "source": [
    "#./batch-infer alphafold3_onegpu $RESULTS_PREFIX | sbatch\n",
    "my_squeue\n",
    "#./batch-infer-cancel"
   ]
  },
  {
   "cell_type": "code",
   "execution_count": null,
   "metadata": {
    "vscode": {
     "languageId": "shellscript"
    }
   },
   "outputs": [],
   "source": []
  }
 ],
 "metadata": {
  "kernelspec": {
   "display_name": "Bash",
   "language": "bash",
   "name": "bash"
  },
  "language_info": {
   "codemirror_mode": "shell",
   "file_extension": ".sh",
   "mimetype": "text/x-sh",
   "name": "bash"
  }
 },
 "nbformat": 4,
 "nbformat_minor": 2
}
