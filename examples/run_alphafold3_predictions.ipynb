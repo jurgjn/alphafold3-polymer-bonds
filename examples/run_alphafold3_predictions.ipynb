{
 "cells": [
  {
   "cell_type": "code",
   "execution_count": 8,
   "metadata": {
    "vscode": {
     "languageId": "shellscript"
    }
   },
   "outputs": [
    {
     "name": "stdout",
     "output_type": "stream",
     "text": [
      "(batch-infer-venv) \n",
      "(batch-infer-venv) \n",
      "(batch-infer-venv) \n",
      "(batch-infer-venv) \n",
      "(batch-infer-venv) \n",
      "/cluster/project/beltrao/jjaenes/25.08_alphafold3-polymer-bonds/examples\n",
      "(batch-infer-venv) \n"
     ]
    }
   ],
   "source": [
    "cd -P ~/batch-infer\n",
    "conda deactivate\n",
    "module load stack/.2024-06-silent python/3.11.6 eth_proxy\n",
    "source software/venvs/batch-infer-venv/bin/activate\n",
    "RESULTS_PREFIX=/cluster/project/beltrao/jjaenes/25.08_alphafold3-polymer-bonds/examples\n",
    "echo $RESULTS_PREFIX"
   ]
  },
  {
   "cell_type": "code",
   "execution_count": 11,
   "metadata": {
    "vscode": {
     "languageId": "shellscript"
    }
   },
   "outputs": [
    {
     "name": "stdout",
     "output_type": "stream",
     "text": [
      "(batch-infer-venv) \n",
      "   JOBID  PARTITION   NAME                                                                                                  STATE       TIME  TIME_LIMIT  NODELIST(REASON)\n",
      "45351295  normal.24h  batch-infer:alphafold3_onegpu=-cluster-project-beltrao-jjaenes-25.08_alphafold3-polymer-bonds-exampl  RUNNING     3:16  1-00:00:00  eu-g5-025-2\n",
      "45331250  normal.24h  euler-tunnel                                                                                          RUNNING  2:41:39     8:00:00  eu-g9-015-1\n",
      "45351348  normal.4h   alphafold3_msas:id=1DF6_bondsonly                                                                     RUNNING     2:27     4:00:00  eu-g5-025-4\n",
      "45351349  normal.4h   alphafold3_msas:id=6OQ1_encoded                                                                       RUNNING     2:27     4:00:00  eu-g5-026-3\n",
      "45351350  normal.4h   alphafold3_msas:id=1AAR_encoded                                                                       RUNNING     2:27     4:00:00  eu-g5-033-2\n",
      "45351351  normal.4h   alphafold3_msas:id=1AAR_bondsonly                                                                     RUNNING     2:27     4:00:00  eu-g5-033-3\n",
      "45351352  normal.4h   alphafold3_msas:id=6OQ1_bondsonly                                                                     RUNNING     2:27     4:00:00  eu-g5-034-3\n",
      "45351353  normal.4h   alphafold3_msas:id=1DF6_encoded                                                                       RUNNING     2:27     4:00:00  eu-g5-034-4\n",
      "(batch-infer-venv) \n",
      "(batch-infer-venv) \n"
     ]
    }
   ],
   "source": [
    "#./batch-infer alphafold3_onegpu $RESULTS_PREFIX | sbatch\n",
    "my_squeue\n",
    "#./batch-infer-cancel"
   ]
  },
  {
   "cell_type": "code",
   "execution_count": null,
   "metadata": {
    "vscode": {
     "languageId": "shellscript"
    }
   },
   "outputs": [],
   "source": []
  }
 ],
 "metadata": {
  "kernelspec": {
   "display_name": "Bash",
   "language": "bash",
   "name": "bash"
  },
  "language_info": {
   "codemirror_mode": "shell",
   "file_extension": ".sh",
   "mimetype": "text/x-sh",
   "name": "bash"
  }
 },
 "nbformat": 4,
 "nbformat_minor": 2
}
