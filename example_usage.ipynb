{
 "cells": [
  {
   "cell_type": "code",
   "execution_count": null,
   "id": "cc84db3c",
   "metadata": {
    "vscode": {
     "languageId": "shellscript"
    }
   },
   "outputs": [
    {
     "name": "stdout",
     "output_type": "stream",
     "text": [
      "/cluster/project/beltrao/rheinzmann/af3-protein-protein-bond\n"
     ]
    }
   ],
   "source": [
    "# make sure you are in the correct directory\n",
    "cd /cluster/project/beltrao/rheinzmann/af3-protein-protein-bond # set this to your own working directory\n",
    "pwd"
   ]
  },
  {
   "cell_type": "code",
   "execution_count": 6,
   "id": "e320e09c",
   "metadata": {
    "vscode": {
     "languageId": "shellscript"
    }
   },
   "outputs": [],
   "source": [
    "# Make directories\n",
    "mkdir -p input # copy your input files here\n",
    "mkdir -p output # output files will be saved here"
   ]
  },
  {
   "cell_type": "code",
   "execution_count": 7,
   "id": "8f8af33d",
   "metadata": {
    "vscode": {
     "languageId": "shellscript"
    }
   },
   "outputs": [
    {
     "name": "stdout",
     "output_type": "stream",
     "text": [
      "Starting protein bond modeling process...\n",
      "Source directory: input/\n",
      "Output directory: output/\n",
      "Loaded: 1aar_a_to_b_ubq_linkage.json\n",
      "Loaded: 1trz_bioass_1.json\n",
      "Loaded: 5ulf_b_to_a_ubq_linkage.json\n",
      "Loaded: 7nbb.json\n",
      "\n",
      "Processing 1aar_a_to_b_ubq_linkage...\n",
      "Found inter-chain bond: A -> C\n",
      "Modifying bond 1/1: (['A', 76, 'C'], ['C', 48, 'NZ'])\n",
      "Processing inter-chain bond: A to C\n",
      "Saved modified file: output/1aar_a_to_b_ubq_linkage.json\n",
      "\n",
      "Processing 1trz_bioass_1...\n",
      "Found inter-chain bond: B -> A\n",
      "Found intra-chain bond: A (internal)\n",
      "Found inter-chain bond: A -> B\n",
      "Modifying bond 1/3: (['B', 19, 'SG'], ['A', 20, 'SG'])\n",
      "Processing inter-chain bond: B to A\n",
      "Modifying bond 2/3: (['A', 6, 'SG'], ['A', 11, 'SG'])\n",
      "Processing intra-chain bond in A: residue 6 to 11\n",
      "Modifying bond 3/3: (['A', 7, 'SG'], ['B', 7, 'SG'])\n",
      "Processing inter-chain bond: A to B\n",
      "Saved modified file: output/1trz_bioass_1.json\n",
      "\n",
      "Processing 5ulf_b_to_a_ubq_linkage...\n",
      "Found inter-chain bond: A -> C\n",
      "Modifying bond 1/1: (['A', 76, 'C'], ['C', 85, 'NZ'])\n",
      "Processing inter-chain bond: A to C\n",
      "Saved modified file: output/5ulf_b_to_a_ubq_linkage.json\n",
      "\n",
      "Processing 7nbb...\n",
      "Found inter-chain bond: A -> B\n",
      "Found inter-chain bond: A -> C\n",
      "Modifying bond 1/2: (['A', 48, 'NZ'], ['B', 76, 'C'])\n",
      "Processing inter-chain bond: A to B\n",
      "Modifying bond 2/2: (['A', 63, 'NZ'], ['C', 76, 'C'])\n",
      "Processing inter-chain bond: A to C\n",
      "Saved modified file: output/7nbb.json\n",
      "Process completed successfully!\n"
     ]
    }
   ],
   "source": [
    "python model_protein_bonds_hack.py --source-dir input/ --output-dir output/"
   ]
  }
 ],
 "metadata": {
  "kernelspec": {
   "display_name": "Bash",
   "language": "bash",
   "name": "bash"
  },
  "language_info": {
   "codemirror_mode": "shell",
   "file_extension": ".sh",
   "mimetype": "text/x-sh",
   "name": "bash"
  }
 },
 "nbformat": 4,
 "nbformat_minor": 5
}
